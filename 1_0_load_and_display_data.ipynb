{
  "cells": [
    {
      "cell_type": "markdown",
      "metadata": {
        "id": "My884YBsBWg5"
      },
      "source": [
        "<a href=\"http://cocl.us/pytorch_link_top?utm_medium=Exinfluencer&utm_source=Exinfluencer&utm_content=000026UJ&utm_term=10006555&utm_id=NA-SkillsNetwork-Channel-SkillsNetworkCoursesIBMDeveloperSkillsNetworkDL0321ENSkillsNetwork20647850-2022-01-01\">\n",
        "    <img src=\"https://s3-api.us-geo.objectstorage.softlayer.net/cf-courses-data/CognitiveClass/DL0110EN/notebook_images%20/Pytochtop.png\" width=\"750\" alt=\"IBM Product \" />\n",
        "</a> \n"
      ]
    },
    {
      "cell_type": "markdown",
      "metadata": {
        "id": "jGqlhwuUBWg9"
      },
      "source": [
        "<img src=\"https://s3-api.us-geo.objectstorage.softlayer.net/cf-courses-data/CognitiveClass/DL0110EN/notebook_images%20/cc-logo-square.png\" width=\"200\" alt=\"cognitiveclass.ai logo\" />\n"
      ]
    },
    {
      "cell_type": "markdown",
      "metadata": {
        "id": "ExthVsa4BWg-"
      },
      "source": [
        "<h2>Objective</h2><ul><li> How to download and pre-process the Concrete dataset.</li></ul> <p>Crack detection has vital importance for structural health monitoring and inspection. We would like to train a network to detect Cracks, we will denote the images that contain cracks as positive and images with no cracks as negative. In this lab you are going to have to download the data and study the dataset. There are two questions in this lab, including listing the path to some of the image files as well as plotting a few images. Remember the results as you will be quizzed on them. </p>\n"
      ]
    },
    {
      "cell_type": "markdown",
      "metadata": {
        "id": "KqwkLHMwBWg-"
      },
      "source": [
        "<h2>Table of Contents</h2>\n"
      ]
    },
    {
      "cell_type": "markdown",
      "metadata": {
        "id": "HnF8dKCaBWg_"
      },
      "source": [
        "<div class=\"alert alert-block alert-info\" style=\"margin-top: 20px\">\n",
        "\n",
        "<ul>\n",
        "    <li><a href=\"https://#download_data\"> Download data</a></li>\n",
        "    <li><a href=\"https://#auxiliary\"> Imports and Auxiliary Functions </a></li>\n",
        "    <li><a href=\"https://#examine_files\">Examine Files</a></li>\n",
        "    <li><a href=\"https://#Question_1\">Question 1 </a></li>\n",
        "    <li><a href=\"https://#Display\">Display and Analyze Image With No Cracks    </a></li>\n",
        "    <li><a href=\"https://#Question_2\">Question 2 </a></li>\n",
        "</ul>\n",
        "<p>Estimated Time Needed: <strong>25 min</strong></p>\n",
        " </div>\n",
        "<hr>\n"
      ]
    },
    {
      "cell_type": "markdown",
      "metadata": {
        "id": "DE4CZD6XBWg_"
      },
      "source": [
        "<h2 id=\"download_data\">Download Data</h2>\n"
      ]
    },
    {
      "cell_type": "markdown",
      "metadata": {
        "id": "9b-2X1HlBWhA"
      },
      "source": [
        "In this section, you are going to download the data from IBM object storage using <b>wget</b>, then unzip them.  <b>wget</b> is a command the retrieves content from web servers, in this case its a zip file. Locally we store the data in the directory  <b>/resources/data</b> . The <b>-p</b> creates the entire directory tree up to the given directory.\n"
      ]
    },
    {
      "cell_type": "markdown",
      "metadata": {
        "id": "zblmAf_1BWhA"
      },
      "source": [
        "First, we download the file that contains the images:\n"
      ]
    },
    {
      "cell_type": "code",
      "execution_count": null,
      "metadata": {
        "colab": {
          "base_uri": "https://localhost:8080/"
        },
        "id": "1hu3WDyeBWhA",
        "outputId": "7694c3b4-f933-472e-8df1-36ce379b6b54"
      },
      "outputs": [
        {
          "name": "stdout",
          "output_type": "stream",
          "text": [
            "--2022-12-25 20:26:54--  https://s3-api.us-geo.objectstorage.softlayer.net/cf-courses-data/CognitiveClass/DL0321EN/data/images/concrete_crack_images_for_classification.zip\n",
            "Resolving s3-api.us-geo.objectstorage.softlayer.net (s3-api.us-geo.objectstorage.softlayer.net)... 67.228.254.196\n",
            "Connecting to s3-api.us-geo.objectstorage.softlayer.net (s3-api.us-geo.objectstorage.softlayer.net)|67.228.254.196|:443... connected.\n",
            "HTTP request sent, awaiting response... 200 OK\n",
            "Length: 245259777 (234M) [application/zip]\n",
            "Saving to: ‘/resources/data/concrete_crack_images_for_classification.zip.1’\n",
            "\n",
            "concrete_crack_imag 100%[===================>] 233.90M  32.8MB/s    in 6.6s    \n",
            "\n",
            "2022-12-25 20:27:01 (35.4 MB/s) - ‘/resources/data/concrete_crack_images_for_classification.zip.1’ saved [245259777/245259777]\n",
            "\n"
          ]
        }
      ],
      "source": [
        "!wget https://s3-api.us-geo.objectstorage.softlayer.net/cf-courses-data/CognitiveClass/DL0321EN/data/images/concrete_crack_images_for_classification.zip -P /resources/data"
      ]
    },
    {
      "cell_type": "markdown",
      "metadata": {
        "id": "3UGhTqB4BWhB"
      },
      "source": [
        "We then unzip the file, this ma take a while:\n"
      ]
    },
    {
      "cell_type": "code",
      "execution_count": null,
      "metadata": {
        "colab": {
          "background_save": true,
          "base_uri": "https://localhost:8080/"
        },
        "id": "dgr0bJ5jBWhC",
        "outputId": "247901da-6ad4-4034-c0d5-210aa5f446cb"
      },
      "outputs": [
        {
          "name": "stdout",
          "output_type": "stream",
          "text": [
            "replace /resources/data/Negative/18476.jpg? [y]es, [n]o, [A]ll, [N]one, [r]ename: "
          ]
        }
      ],
      "source": [
        "!unzip -q  /resources/data/concrete_crack_images_for_classification.zip -d  /resources/data"
      ]
    },
    {
      "cell_type": "markdown",
      "metadata": {
        "id": "e246wmdZBWhC"
      },
      "source": [
        "We then download the files that contain the negative images:\n"
      ]
    },
    {
      "cell_type": "markdown",
      "metadata": {
        "id": "e99bg72xBWhC"
      },
      "source": [
        "<h2 id=\"auxiliary\">Imports and Auxiliary Functions</h2>\n"
      ]
    },
    {
      "cell_type": "markdown",
      "metadata": {
        "id": "Gu6giBVgBWhC"
      },
      "source": [
        "The following are the libraries we are going to use for this lab:\n"
      ]
    },
    {
      "cell_type": "code",
      "execution_count": null,
      "metadata": {
        "id": "teZwdKk6BWhC"
      },
      "outputs": [],
      "source": [
        "from PIL import Image\n",
        "from matplotlib.pyplot import imshow\n",
        "import pandas\n",
        "import matplotlib.pylab as plt\n",
        "import os\n",
        "import glob"
      ]
    },
    {
      "cell_type": "markdown",
      "metadata": {
        "id": "voFs5MHCBWhD"
      },
      "source": [
        "We will use this function in the lab to plot:\n"
      ]
    },
    {
      "cell_type": "code",
      "execution_count": null,
      "metadata": {
        "id": "bw-5V6j_BWhD"
      },
      "outputs": [],
      "source": [
        "def show_data(data_sample, shape = (28, 28)):\n",
        "    plt.imshow(data_sample[0].numpy().reshape(shape), cmap='gray')\n",
        "    plt.title('y = ' + data_sample[1])"
      ]
    },
    {
      "cell_type": "markdown",
      "metadata": {
        "id": "F4AFkUXrBWhD"
      },
      "source": [
        "<h2 id=\"examine_files\">Examine Files </h2>\n"
      ]
    },
    {
      "cell_type": "markdown",
      "metadata": {
        "id": "rfm4uFpuBWhD"
      },
      "source": [
        "In this section we are going to get a list of the negative image files, then plot them. Then for the first question your job to do something similar to the positive files.\n"
      ]
    },
    {
      "cell_type": "markdown",
      "metadata": {
        "id": "sJhTqOScBWhD"
      },
      "source": [
        "The path to all the images are stored in the variable  <code>directory</code>.\n"
      ]
    },
    {
      "cell_type": "code",
      "execution_count": null,
      "metadata": {
        "id": "l5mdYIQpBWhD"
      },
      "outputs": [],
      "source": [
        "directory=\"/resources/data\""
      ]
    },
    {
      "cell_type": "markdown",
      "metadata": {
        "id": "zDiFpQboBWhE"
      },
      "source": [
        "The images with out the cracks are stored in the file <b>Negative</b>\n"
      ]
    },
    {
      "cell_type": "code",
      "execution_count": null,
      "metadata": {
        "id": "W1nJGAcQBWhE"
      },
      "outputs": [],
      "source": [
        "negative='Negative'"
      ]
    },
    {
      "cell_type": "markdown",
      "metadata": {
        "id": "EUsuCVIeBWhE"
      },
      "source": [
        "We can find the path to the file with all the negative images by  using the function <code>os.path.join</code>. Inputs are the variable directory as well as the variable  <code>negative</code>.\n"
      ]
    },
    {
      "cell_type": "code",
      "execution_count": null,
      "metadata": {
        "id": "XQvY3_XJBWhE"
      },
      "outputs": [],
      "source": [
        "negative_file_path=os.path.join(directory,negative)\n",
        "negative_file_path"
      ]
    },
    {
      "cell_type": "markdown",
      "metadata": {
        "id": "mn6ILlfIBWhE"
      },
      "source": [
        "<h3> Loading the File Path of Each Image </h3>\n"
      ]
    },
    {
      "cell_type": "markdown",
      "metadata": {
        "id": "_jN_jlO1BWhE"
      },
      "source": [
        "We need each the path of each image, we can find the all the file in the directory  <code>negative_file_path</code> using the function <code>os.listdir</code>, the result is a list. We print out the first three elements of the list.\n"
      ]
    },
    {
      "cell_type": "code",
      "execution_count": null,
      "metadata": {
        "id": "cmLDYkvGBWhE"
      },
      "outputs": [],
      "source": [
        " os.listdir(negative_file_path)[0:3]"
      ]
    },
    {
      "cell_type": "markdown",
      "metadata": {
        "id": "jPHeO-vQBWhF"
      },
      "source": [
        "We need the full path of the image so we join them as above. Here are a few samples  three samples:\n"
      ]
    },
    {
      "cell_type": "code",
      "execution_count": null,
      "metadata": {
        "id": "BaF71Up7BWhF"
      },
      "outputs": [],
      "source": [
        "[os.path.join(negative_file_path,file) for file in  os.listdir(negative_file_path)][0:3]"
      ]
    },
    {
      "cell_type": "markdown",
      "metadata": {
        "id": "J9-uM_csBWhF"
      },
      "source": [
        "In some cases, we may have files of a different type, so we have to ensure it's of type <b>jpg</b>. We have to check the extension using the method <code> endswith()</code>. The method  <code>endswith()</code> returns True if the string ends with the specified suffix, otherwise, it will return False. Let's do a quick example:\n"
      ]
    },
    {
      "cell_type": "code",
      "execution_count": null,
      "metadata": {
        "id": "Heiqbou3BWhF"
      },
      "outputs": [],
      "source": [
        "print(\"test.jpg\".endswith(\".jpg\"))\n",
        "print(\"test.mpg\".endswith(\".jpg\"))"
      ]
    },
    {
      "cell_type": "markdown",
      "metadata": {
        "id": "t-QBLSWVBWhF"
      },
      "source": [
        "We now have all the tools to create a list with the path to each image file.  We use a List Comprehensions  to make the code more compact. We assign it to the variable <code>negative_files<code> , sort it in and display the first three elements:\n"
      ]
    },
    {
      "cell_type": "code",
      "execution_count": null,
      "metadata": {
        "id": "guwUD6uGBWhF"
      },
      "outputs": [],
      "source": [
        "negative_files=[os.path.join(negative_file_path,file) for file in  os.listdir(negative_file_path) if file.endswith(\".jpg\")]\n",
        "negative_files.sort()\n",
        "negative_files[0:3]"
      ]
    },
    {
      "cell_type": "markdown",
      "metadata": {
        "id": "w2Zziu6rBWhF"
      },
      "source": [
        "<h2 id=\"Question_1\">Question 1</h2>\n"
      ]
    },
    {
      "cell_type": "markdown",
      "metadata": {
        "id": "K6HFtGFcBWhF"
      },
      "source": [
        "<b>Using the procedure above, load all the images with cracks paths into a list called positive files, the directory of these images is called Positive.  Make sure the list is sorted and display the first three elements of the list you will need this for the question so remember it.</b>\n"
      ]
    },
    {
      "cell_type": "code",
      "execution_count": null,
      "metadata": {
        "id": "0u_mGGHhBWhG"
      },
      "outputs": [],
      "source": [
        "positive=\"Positive\"\n",
        "Positive_file_path=os.path.join(directory,positive)\n",
        "Positive_file_path\n",
        "os.listdir(Positive_file_path)[0:3]"
      ]
    },
    {
      "cell_type": "code",
      "execution_count": null,
      "metadata": {
        "id": "GbH4Ys5jC6xG"
      },
      "outputs": [],
      "source": [
        "[os.path.join(Positive_file_path,file) for file in  os.listdir(Positive_file_path)][0:3]"
      ]
    },
    {
      "cell_type": "code",
      "execution_count": null,
      "metadata": {
        "id": "xCfci1GhDDIx"
      },
      "outputs": [],
      "source": [
        "positive_files=[os.path.join(Positive_file_path,file) for file in  os.listdir(Positive_file_path) if file.endswith(\".jpg\")]\n",
        "positive_files.sort()\n",
        "positive_files[0:3]"
      ]
    },
    {
      "cell_type": "markdown",
      "metadata": {
        "id": "V7HBLPxrBWhG"
      },
      "source": [
        "<h2 id=\"Display\">Display and Analyze Image With No Cracks</h2>\n"
      ]
    },
    {
      "cell_type": "markdown",
      "metadata": {
        "id": "LhB-kQU0BWhG"
      },
      "source": [
        "We can open an image by using the <code>Image</code> Module in the  <b>PIL</b> library, using the function open. We only require the image path; the input is the path of the image. For example we can load the first image as follows:\n"
      ]
    },
    {
      "cell_type": "code",
      "execution_count": null,
      "metadata": {
        "id": "_ds-wbdFBWhG"
      },
      "outputs": [],
      "source": [
        "\n",
        "image1 = Image.open(negative_files[0])\n",
        "# you can view the image directly \n",
        "#image "
      ]
    },
    {
      "cell_type": "markdown",
      "metadata": {
        "id": "iB_lrpp7BWhG"
      },
      "source": [
        "we can plot the image\n"
      ]
    },
    {
      "cell_type": "code",
      "execution_count": null,
      "metadata": {
        "id": "69GQgqxjBWhG"
      },
      "outputs": [],
      "source": [
        "plt.imshow(image1)\n",
        "plt.title(\"1st Image With No Cracks\")\n",
        "plt.show()"
      ]
    },
    {
      "cell_type": "markdown",
      "metadata": {
        "id": "fjukrhUYBWhG"
      },
      "source": [
        "We can also plot the second image.\n"
      ]
    },
    {
      "cell_type": "code",
      "execution_count": null,
      "metadata": {
        "id": "0cFQlPt4BWhG"
      },
      "outputs": [],
      "source": [
        "image2 = Image.open(negative_files[1])\n",
        "plt.imshow(image2)\n",
        "plt.title(\"2nd Image With No Cracks\")\n",
        "plt.show()"
      ]
    },
    {
      "cell_type": "markdown",
      "metadata": {
        "id": "iFdZkaaHBWhH"
      },
      "source": [
        "<h2 id=\"Question_2\">Question 2</h2>\n"
      ]
    },
    {
      "cell_type": "markdown",
      "metadata": {
        "id": "DKvGZCqeBWhH"
      },
      "source": [
        "<b>Plot the first three images for the dataset with cracks. Don't forget. You will be asked in the quiz, so remember the image. </b>\n"
      ]
    },
    {
      "cell_type": "code",
      "execution_count": null,
      "metadata": {
        "id": "IrSMPTv9BWhH"
      },
      "outputs": [],
      "source": [
        "image1_= Image.open(positive_files[0])\n",
        "image2_= Image.open(positive_files[1])\n",
        "image3_ = Image.open(positive_files[2])"
      ]
    },
    {
      "cell_type": "code",
      "execution_count": null,
      "metadata": {
        "id": "PmWQUQD8FLrW"
      },
      "outputs": [],
      "source": [
        "plt.imshow(image1_)\n",
        "plt.title(\"1st Image With No Cracks\")\n",
        "plt.show()\n",
        "plt.imshow(image2_)\n",
        "plt.title(\"2nd Image With No Cracks\")\n",
        "plt.show()\n",
        "plt.imshow(image3_)\n",
        "plt.title(\"3rd Image With No Cracks\")\n",
        "plt.show()"
      ]
    },
    {
      "cell_type": "markdown",
      "metadata": {
        "id": "DByLYROMBWhH"
      },
      "source": [
        "<hr>\n"
      ]
    },
    {
      "cell_type": "markdown",
      "metadata": {
        "id": "uwfr9gf7BWhJ"
      },
      "source": [
        "<h2>About the Authors:</h2> \n",
        "\n",
        "<a href=\"https://www.linkedin.com/in/joseph-s-50398b136/?utm_medium=Exinfluencer&utm_source=Exinfluencer&utm_content=000026UJ&utm_term=10006555&utm_id=NA-SkillsNetwork-Channel-SkillsNetworkCoursesIBMDeveloperSkillsNetworkDL0321ENSkillsNetwork20647850-2022-01-01\">Joseph Santarcangelo</a> has a PhD in Electrical Engineering, his research focused on using machine learning, signal processing, and computer vision to determine how videos impact human cognition. Joseph has been working for IBM since he completed his PhD.\n"
      ]
    },
    {
      "cell_type": "markdown",
      "metadata": {
        "id": "2inbwQR9BWhJ"
      },
      "source": [
        "[Alex Aklson](https://www.linkedin.com/in/aklson/?utm_medium=Exinfluencer&utm_source=Exinfluencer&utm_content=000026UJ&utm_term=10006555&utm_id=NA-SkillsNetwork-Channel-SkillsNetworkCoursesIBMDeveloperSkillsNetworkDL0321ENSkillsNetwork20647850-2022-01-01). Ph.D., is a data scientist in the Digital Business Group at IBM Canada. Alex has been intensively involved in many exciting data science projects such as designing a smart system that could detect the onset of dementia in older adults using longitudinal trajectories of walking speed and home activity. Before joining IBM, Alex worked as a data scientist at Datascope Analytics, a data science consulting firm in Chicago, IL, where he designed solutions and products using a human-centred, data-driven approach. Alex received his Ph.D. in Biomedical Engineering from the University of Toronto.\n"
      ]
    },
    {
      "cell_type": "markdown",
      "metadata": {
        "id": "SR6wPudeBWhJ"
      },
      "source": [
        "## Change Log\n",
        "\n",
        "| Date (YYYY-MM-DD) | Version | Changed By | Change Description                                          |\n",
        "| ----------------- | ------- | ---------- | ----------------------------------------------------------- |\n",
        "| 2020-09-18        | 2.0     | Shubham    | Migrated Lab to Markdown and added to course repo in GitLab |\n",
        "\n",
        "<hr>\n",
        "\n",
        "## <h3 align=\"center\"> © IBM Corporation 2020. All rights reserved. <h3/>\n"
      ]
    },
    {
      "cell_type": "code",
      "execution_count": null,
      "metadata": {
        "id": "kJHgrOAIBWhJ"
      },
      "outputs": [],
      "source": []
    }
  ],
  "metadata": {
    "colab": {
      "provenance": []
    },
    "kernelspec": {
      "display_name": "Python 3",
      "language": "python",
      "name": "python3"
    },
    "language_info": {
      "codemirror_mode": {
        "name": "ipython",
        "version": 3
      },
      "file_extension": ".py",
      "mimetype": "text/x-python",
      "name": "python",
      "nbconvert_exporter": "python",
      "pygments_lexer": "ipython3",
      "version": "3.6.8"
    }
  },
  "nbformat": 4,
  "nbformat_minor": 0
}